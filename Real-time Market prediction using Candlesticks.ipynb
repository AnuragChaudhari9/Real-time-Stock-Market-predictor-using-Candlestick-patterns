{
 "cells": [
  {
   "cell_type": "code",
   "execution_count": 2,
   "id": "1bc1d748-c1c4-4370-a354-adf67af14537",
   "metadata": {},
   "outputs": [],
   "source": [
    "import pandas as pd\n",
    "from alpha_vantage.timeseries import TimeSeries\n",
    "import plotly.graph_objects as go\n",
    "import plotly.io as pio\n",
    "import schedule\n",
    "import time"
   ]
  },
  {
   "cell_type": "markdown",
   "id": "8b0bd9ab-8a8d-4f4b-855b-b2fb663a8fb6",
   "metadata": {},
   "source": [
    "## Generate API key on Alpha Vantage website"
   ]
  },
  {
   "cell_type": "code",
   "execution_count": 43,
   "id": "d1bf82c6-f9d1-4f7e-8a5c-b1b8c71b455f",
   "metadata": {},
   "outputs": [],
   "source": [
    "api_key = '' # Fill the API key from Alpha Vantage\n",
    "\n",
    "pio.renderers.default = 'browser'"
   ]
  },
  {
   "cell_type": "markdown",
   "id": "631dad06-a2b5-442d-9289-941e93789f97",
   "metadata": {},
   "source": [
    "## Candlestick Patterns defined"
   ]
  },
  {
   "cell_type": "code",
   "execution_count": 5,
   "id": "7ac95ec8-caa9-48f8-98c6-6c65e9a445e1",
   "metadata": {},
   "outputs": [],
   "source": [
    "def is_doji(row, threshold=0.1):\n",
    "        return abs(row['1. open'] - row['4. close']) <= threshold * (row['2. high'] - row['3. low'])\n",
    "\n",
    "def is_tweezer(row1, row2, threshold=0.1):\n",
    "    if row1['4. close'] > row1['1. open'] and row2['4. close'] < row2['1. open']:\n",
    "        if row1['2. high'] >= row2['2. high'] and abs(row1['3. low'] - row2['3. low']) <= threshold * (row1['2. high'] - row1['3. low']):\n",
    "            return True\n",
    "    elif row1['4. close'] < row1['1. open'] and row2['4. close'] > row2['1. open']:\n",
    "        if row1['3. low'] <= row2['3. low'] and abs(row1['2. high'] - row2['2. high']) <= threshold * (row1['2. high'] - row1['3. low']):\n",
    "            return True\n",
    "    return False"
   ]
  },
  {
   "cell_type": "markdown",
   "id": "1a0436ef-5778-477f-929b-7d43811f03e9",
   "metadata": {},
   "source": [
    "## Candlestick Patterns searched"
   ]
  },
  {
   "cell_type": "code",
   "execution_count": 31,
   "id": "028dcdf0-8336-4470-8bbb-b9196d383b2b",
   "metadata": {},
   "outputs": [],
   "source": [
    "def Doji_found(data):\n",
    "    for i in range(len(data)):\n",
    "        row = data.iloc[i]\n",
    "        if is_doji(row, threshold=0.1):\n",
    "            next_row = data.iloc[i - 1] if i > 0 else None\n",
    "            if next_row is not None:\n",
    "                if row['4. close'] > row['1. open'] and next_row['4. close'] > next_row['1. open']:\n",
    "                    return 1, row.name\n",
    "                elif row['4. close'] < row['1. open'] and next_row['4. close'] < next_row['1. open']:\n",
    "                    return -1, row.name\n",
    "    return 0, None\n",
    "\n",
    "def Tweezer_found(data):\n",
    "    for i in range(len(data) - 1):\n",
    "        current_row = data.iloc[i]\n",
    "        next_row = data.iloc[i - 1]\n",
    "        if is_tweezer(current_row, next_row, threshold=0.1):\n",
    "            if current_row['4. close'] > current_row['1. open']:\n",
    "                return 1, current_row.name\n",
    "            else:\n",
    "                return -1, current_row.name\n",
    "    return 0, None"
   ]
  },
  {
   "cell_type": "markdown",
   "id": "9fbe55d1-5440-49ad-9243-09ca831eaf52",
   "metadata": {},
   "source": [
    "## Data Processing"
   ]
  },
  {
   "cell_type": "code",
   "execution_count": 36,
   "id": "409930be-329d-49c0-b8d3-102fe78ae0c5",
   "metadata": {},
   "outputs": [],
   "source": [
    "def fetch_and_process_data():\n",
    "    ts = TimeSeries(key=api_key, output_format='pandas')\n",
    "    data, meta_data = ts.get_intraday(symbol='MSFT', interval='1min', outputsize='full')\n",
    "    \n",
    "    data_sorted = data.sort_index(ascending=False)\n",
    "    latest_5_entries = data_sorted.head(5)\n",
    "    candlestick_data = latest_5_entries[['1. open', '2. high', '3. low', '4. close']]\n",
    "    \n",
    "    fig = go.Figure(data=[go.Candlestick(\n",
    "        x=candlestick_data.index,\n",
    "        open=candlestick_data['1. open'],\n",
    "        high=candlestick_data['2. high'],\n",
    "        low=candlestick_data['3. low'],\n",
    "        close=candlestick_data['4. close']\n",
    "    )])\n",
    "    \n",
    "    fig.update_layout(\n",
    "        title='MSFT Stock Price - Last 5 Minutes',\n",
    "        xaxis_title='Date',\n",
    "        yaxis_title='Price (USD)',\n",
    "        xaxis_rangeslider_visible=False\n",
    "    )\n",
    "    \n",
    "    fig.show()\n",
    "\n",
    "    doji_signal, doji_time = Doji_found(latest_5_entries)\n",
    "    tweezer_signal, tweezer_time = Tweezer_found(latest_5_entries)\n",
    "    \n",
    "    if doji_signal == 1:\n",
    "        print(f\"Bullish Doji pattern detected on {doji_time}\")\n",
    "        print(\"Buy!\")\n",
    "        \n",
    "    elif doji_signal == -1:\n",
    "        print(f\"Bearish Doji pattern detected on {doji_time}\")\n",
    "        print(\"Sell!\")\n",
    "\n",
    "    if tweezer_signal == 1:\n",
    "        print(f\"Bullish Tweezer pattern detected on {tweezer_time}\")\n",
    "        print(\"Buy!\")\n",
    "    elif tweezer_signal == -1:\n",
    "        print(f\"Bearish Tweezer pattern detected on {tweezer_time}\")\n",
    "        print(\"Sell!\")"
   ]
  },
  {
   "cell_type": "code",
   "execution_count": 37,
   "id": "50fbbeb4-9bae-489a-ba33-ff63987ae3bf",
   "metadata": {},
   "outputs": [
    {
     "name": "stdout",
     "output_type": "stream",
     "text": [
      "Bullish Doji pattern detected on 2024-07-12 19:58:00\n",
      "Buy!\n"
     ]
    }
   ],
   "source": [
    "fetch_and_process_data()"
   ]
  },
  {
   "cell_type": "markdown",
   "id": "1f4f4182-6321-4b75-a205-67743757c77a",
   "metadata": {},
   "source": [
    "## Automated to run the script every 1 minute. Close the process using Ctrl + C"
   ]
  },
  {
   "cell_type": "code",
   "execution_count": null,
   "id": "24af71ad-8af2-42fe-8068-a991854f56ed",
   "metadata": {},
   "outputs": [],
   "source": [
    "schedule.every(1).minutes.do(fetch_and_process_data)\n",
    "\n",
    "try:\n",
    "    while True:\n",
    "        schedule.run_pending()\n",
    "        time.sleep(1)\n",
    "except KeyboardInterrupt:\n",
    "    print(\"Script stopped by user.\")"
   ]
  }
 ],
 "metadata": {
  "kernelspec": {
   "display_name": "Python 3 (ipykernel)",
   "language": "python",
   "name": "python3"
  },
  "language_info": {
   "codemirror_mode": {
    "name": "ipython",
    "version": 3
   },
   "file_extension": ".py",
   "mimetype": "text/x-python",
   "name": "python",
   "nbconvert_exporter": "python",
   "pygments_lexer": "ipython3",
   "version": "3.10.5"
  }
 },
 "nbformat": 4,
 "nbformat_minor": 5
}
